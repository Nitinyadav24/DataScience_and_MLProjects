{
  "nbformat": 4,
  "nbformat_minor": 0,
  "metadata": {
    "colab": {
      "name": "function and list comprehension.ipynb",
      "provenance": [],
      "collapsed_sections": []
    },
    "kernelspec": {
      "name": "python3",
      "display_name": "Python 3"
    }
  },
  "cells": [
    {
      "cell_type": "code",
      "metadata": {
        "id": "pPCWwMdDyapM"
      },
      "source": [
        "list=[1,2,3,4,5,6,7]"
      ],
      "execution_count": null,
      "outputs": []
    },
    {
      "cell_type": "code",
      "metadata": {
        "colab": {
          "base_uri": "https://localhost:8080/"
        },
        "id": "QqctldVIyavM",
        "outputId": "c8099772-0def-4070-b220-9cf8132deefa"
      },
      "source": [
        "for i in list:\r\n",
        "  print(str(i)+ ' is the number')"
      ],
      "execution_count": null,
      "outputs": [
        {
          "output_type": "stream",
          "text": [
            "1is the number\n",
            "2is the number\n",
            "3is the number\n",
            "4is the number\n",
            "5is the number\n",
            "6is the number\n"
          ],
          "name": "stdout"
        }
      ]
    },
    {
      "cell_type": "code",
      "metadata": {
        "colab": {
          "base_uri": "https://localhost:8080/"
        },
        "id": "tQaeo8HXya0a",
        "outputId": "9138d3cd-4bc8-437c-9782-11639b708976"
      },
      "source": [
        "[str(i)+ 'is the number' for i in list]"
      ],
      "execution_count": null,
      "outputs": [
        {
          "output_type": "execute_result",
          "data": {
            "text/plain": [
              "['1is the number',\n",
              " '2is the number',\n",
              " '3is the number',\n",
              " '4is the number',\n",
              " '5is the number',\n",
              " '6is the number']"
            ]
          },
          "metadata": {
            "tags": []
          },
          "execution_count": 16
        }
      ]
    },
    {
      "cell_type": "code",
      "metadata": {
        "colab": {
          "base_uri": "https://localhost:8080/"
        },
        "id": "2UbzOkm9ya4W",
        "outputId": "7c880e99-e77f-43ea-cec7-afbda4d7c444"
      },
      "source": [
        "for i in list:\r\n",
        "  if i%2==0:\r\n",
        "    print(str(i)+ ' is the even number')\r\n",
        "  elif i==7:\r\n",
        "    print(str(i) + ' is 7th number')\r\n",
        "  else:\r\n",
        "    print(str(i) + ' is the odd number')"
      ],
      "execution_count": null,
      "outputs": [
        {
          "output_type": "stream",
          "text": [
            "1 is the odd number\n",
            "2 is the even number\n",
            "3 is the odd number\n",
            "4 is the even number\n",
            "5 is the odd number\n",
            "6 is the even number\n",
            "7 is 7th number\n"
          ],
          "name": "stdout"
        }
      ]
    },
    {
      "cell_type": "code",
      "metadata": {
        "id": "dLo6CbJVzq9w"
      },
      "source": [
        "list = [1,2,3,4,5,6]"
      ],
      "execution_count": null,
      "outputs": []
    },
    {
      "cell_type": "code",
      "metadata": {
        "id": "M4iTTUG5zrEA"
      },
      "source": [
        "def greater(a,b,c):\r\n",
        "  if a>b:\r\n",
        "    return a\r\n",
        "  elif b>c:\r\n",
        "    return b\r\n",
        "  else:\r\n",
        "    return c"
      ],
      "execution_count": null,
      "outputs": []
    },
    {
      "cell_type": "code",
      "metadata": {
        "id": "oAJt431O0Myg"
      },
      "source": [
        "new_list=[2,3,4,5,6,7]\r\n"
      ],
      "execution_count": null,
      "outputs": []
    },
    {
      "cell_type": "code",
      "metadata": {
        "id": "vDCQaxsp0WQv"
      },
      "source": [
        "def total(a):\r\n",
        "  total=0\r\n",
        "  for i in range(0,len(a)):\r\n",
        "    total=total+a[i]\r\n",
        "  print(total)\r\n",
        "\r\n",
        "\r\n",
        "   \r\n",
        "    "
      ],
      "execution_count": null,
      "outputs": []
    },
    {
      "cell_type": "code",
      "metadata": {
        "colab": {
          "base_uri": "https://localhost:8080/"
        },
        "id": "60nQmW062j4n",
        "outputId": "78e765d4-4461-4b01-911f-5824f620d26a"
      },
      "source": [
        "total([2,3,4,5,6,7,8,9,9])"
      ],
      "execution_count": null,
      "outputs": [
        {
          "output_type": "stream",
          "text": [
            "53\n"
          ],
          "name": "stdout"
        }
      ]
    },
    {
      "cell_type": "code",
      "metadata": {
        "id": "jXQUpIrt3wBg"
      },
      "source": [
        "def information(word):\r\n",
        "  return 'word:' + str(word) + ' length:'+ str(len(word))"
      ],
      "execution_count": null,
      "outputs": []
    },
    {
      "cell_type": "code",
      "metadata": {
        "colab": {
          "base_uri": "https://localhost:8080/",
          "height": 35
        },
        "id": "dI6bzG2O4K3Q",
        "outputId": "1e0fab2c-cfd6-4eba-da64-57d025c6a17e"
      },
      "source": [
        "information('language')"
      ],
      "execution_count": null,
      "outputs": [
        {
          "output_type": "execute_result",
          "data": {
            "application/vnd.google.colaboratory.intrinsic+json": {
              "type": "string"
            },
            "text/plain": [
              "'word:language length:8'"
            ]
          },
          "metadata": {
            "tags": []
          },
          "execution_count": 45
        }
      ]
    }
  ]
}